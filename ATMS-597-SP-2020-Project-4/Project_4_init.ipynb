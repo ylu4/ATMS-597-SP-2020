{
 "cells": [
  {
   "cell_type": "markdown",
   "metadata": {},
   "source": [
    "### Data\n",
    "    * Surface observations, 12Z GFS, from 1-1-10 to 12-31-19, TMIN, TMAX, precipitation, maximum wind speed, https://www.ncdc.noaa.gov/data-access/model-data/model-datasets/global-forcast-system-gfs\n",
    "    * BUFKIT, https://www.weather.gov/cae/bufkit.html\n",
    "    * MOS-X to read the data, https://github.com/jweyn/MOS-X\n",
    "    * Hourly observation, numpy arrays, `.pkl`\n",
    "\n",
    "### Model\n",
    "    * Input from GFS, \n",
    "        * TMAX, TMIN, PREC, MAX_WSPD\n",
    "        * Profiles, Temp, RH, Wind Speed & Directiond\n",
    "    * Outputs, \n",
    "        * Predicitons\n",
    "    * Multi-variable LR\n",
    "    * Random Forest\n",
    "\n",
    "### Verification\n",
    "    * Last year, 2019\n",
    "    * Metrics, \n",
    "        * r^2\n",
    "        * RMSE\n",
    "    * Training, from 2010 to 2018"
   ]
  },
  {
   "cell_type": "code",
   "execution_count": null,
   "metadata": {},
   "outputs": [],
   "source": []
  }
 ],
 "metadata": {
  "kernelspec": {
   "display_name": "Python [conda env:gpu] *",
   "language": "python",
   "name": "conda-env-gpu-py"
  },
  "language_info": {
   "codemirror_mode": {
    "name": "ipython",
    "version": 3
   },
   "file_extension": ".py",
   "mimetype": "text/x-python",
   "name": "python",
   "nbconvert_exporter": "python",
   "pygments_lexer": "ipython3",
   "version": "3.7.6"
  }
 },
 "nbformat": 4,
 "nbformat_minor": 4
}
